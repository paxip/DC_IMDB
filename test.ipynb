{
 "cells": [
  {
   "cell_type": "code",
   "execution_count": 5,
   "metadata": {},
   "outputs": [
    {
     "data": {
      "text/plain": [
       "{'a': 1, 'b': 2}"
      ]
     },
     "execution_count": 5,
     "metadata": {},
     "output_type": "execute_result"
    }
   ],
   "source": [
    "list1 = ['a', 'b', 'c', 'd']\n",
    "list2 = [1, 2, 3]\n",
    "\n",
    "list3 = zip(list1[0:2], list2[0:2])\n",
    "dict(list3)"
   ]
  },
  {
   "cell_type": "code",
   "execution_count": 7,
   "metadata": {},
   "outputs": [
    {
     "data": {
      "text/plain": [
       "{'Distributor': 'Walt Disney Studios Motion Pictures\\nSee full company information',\n",
       " 'Opening': '$220,009,584\\n4,232 theaters',\n",
       " 'Budget': '$317,000,000',\n",
       " 'Release Date': 'Dec 15, 2017 - Apr 19, 2018',\n",
       " 'MPAA': 'PG-13',\n",
       " 'Running Time': '2 hr 32 min',\n",
       " 'Genres': 'Action Adventure Fantasy Sci-Fi',\n",
       " 'In Release': '382 days/54 weeks',\n",
       " 'Widest Release': '4,232 theaters',\n",
       " 'IMDbPro': 'See more details at IMDbPro'}"
      ]
     },
     "execution_count": 7,
     "metadata": {},
     "output_type": "execute_result"
    }
   ],
   "source": [
    "key_list = ['Distributor', 'Opening', 'Budget', 'Release Date', 'MPAA', 'Running Time', 'Genres', 'In Release', 'Widest Release', 'IMDbPro']\n",
    "value_list = ['Walt Disney Studios Motion Pictures\\nSee full company information', '$220,009,584\\n4,232 theaters', '$317,000,000', 'Dec 15, 2017 - Apr 19, 2018', 'PG-13', '2 hr 32 min', 'Action Adventure Fantasy Sci-Fi', '382 days/54 weeks', '4,232 theaters', 'See more details at IMDbPro']\n",
    "\n",
    "key_value_list = zip(key_list, value_list)\n",
    "dict(key_value_list)"
   ]
  },
  {
   "cell_type": "code",
   "execution_count": 12,
   "metadata": {},
   "outputs": [
    {
     "name": "stdout",
     "output_type": "stream",
     "text": [
      "{'Distributor': 'Walt Disney Studios Motion Pictures\\nSee full company information', 'Opening': '$220,009,584\\n4,232 theaters', 'Budget': '$317,000,000', 'Release Date': 'Dec 15, 2017 - Apr 19, 2018', 'MPAA': 'PG-13', 'Running Time': '2 hr 32 min', 'Genres': 'Action Adventure Fantasy Sci-Fi', 'In Release': '382 days/54 weeks', 'Widest Release': '4,232 theaters', 'IMDbPro': 'See more details at IMDbPro'}\n"
     ]
    }
   ],
   "source": [
    "key_list = ['Distributor', 'Opening', 'Budget', 'Release Date', 'MPAA', 'Running Time', 'Genres', 'In Release', 'Widest Release', 'IMDbPro']\n",
    "value_list = ['Walt Disney Studios Motion Pictures\\nSee full company information', '$220,009,584\\n4,232 theaters', '$317,000,000', 'Dec 15, 2017 - Apr 19, 2018', 'PG-13', '2 hr 32 min', 'Action Adventure Fantasy Sci-Fi', '382 days/54 weeks', '4,232 theaters', 'See more details at IMDbPro']\n",
    "\n",
    "key_value_list = dict(zip(key_list, value_list))\n",
    "\n",
    "print(key_value_list)"
   ]
  },
  {
   "cell_type": "code",
   "execution_count": 11,
   "metadata": {},
   "outputs": [
    {
     "name": "stdout",
     "output_type": "stream",
     "text": [
      "{1: 'bobby', 2: 'hadz', 3: 'com'}\n"
     ]
    }
   ],
   "source": [
    "list_1 = [1, 2, 3]\n",
    "list_2 = ['bobby', 'hadz', 'com']\n",
    "\n",
    "my_list = dict(zip(list_1, list_2))\n",
    "\n",
    "# 👇️ [(1, 'bobby'), (2, 'hadz'), (3, 'com')]\n",
    "print(my_list)"
   ]
  },
  {
   "cell_type": "code",
   "execution_count": 15,
   "metadata": {},
   "outputs": [
    {
     "name": "stdout",
     "output_type": "stream",
     "text": [
      "Timestamp: 2022-10-20 17:11:28\n"
     ]
    }
   ],
   "source": [
    "import datetime\n",
    "\n",
    "Timestamp = 'Timestamp: {:%Y-%m-%d %H:%M:%S}'.format(datetime.datetime.now())\n",
    "\n",
    "print(Timestamp)"
   ]
  },
  {
   "cell_type": "code",
   "execution_count": 21,
   "metadata": {},
   "outputs": [
    {
     "name": "stdout",
     "output_type": "stream",
     "text": [
      "The directory is created.\n"
     ]
    }
   ],
   "source": [
    "import os\n",
    "\n",
    "os.mkdir('raw_data')\n",
    "print('The directory is created.')"
   ]
  },
  {
   "cell_type": "code",
   "execution_count": 20,
   "metadata": {},
   "outputs": [
    {
     "ename": "FileNotFoundError",
     "evalue": "[Errno 2] No such file or directory: 'DC_IMDB/GeeksforGeeks'",
     "output_type": "error",
     "traceback": [
      "\u001b[0;31m---------------------------------------------------------------------------\u001b[0m",
      "\u001b[0;31mFileNotFoundError\u001b[0m                         Traceback (most recent call last)",
      "Cell \u001b[0;32mIn [20], line 16\u001b[0m\n\u001b[1;32m     11\u001b[0m path \u001b[39m=\u001b[39m os\u001b[39m.\u001b[39mpath\u001b[39m.\u001b[39mjoin(parent_dir, directory)\n\u001b[1;32m     13\u001b[0m \u001b[39m# Create the directory\u001b[39;00m\n\u001b[1;32m     14\u001b[0m \u001b[39m# 'GeeksForGeeks' in\u001b[39;00m\n\u001b[1;32m     15\u001b[0m \u001b[39m# '/home / User / Documents'\u001b[39;00m\n\u001b[0;32m---> 16\u001b[0m os\u001b[39m.\u001b[39mmkdir(path)\n\u001b[1;32m     17\u001b[0m \u001b[39mprint\u001b[39m(\u001b[39m\"\u001b[39m\u001b[39mDirectory \u001b[39m\u001b[39m'\u001b[39m\u001b[39m% s\u001b[39;00m\u001b[39m'\u001b[39m\u001b[39m created\u001b[39m\u001b[39m\"\u001b[39m \u001b[39m%\u001b[39m directory)\n",
      "\u001b[0;31mFileNotFoundError\u001b[0m: [Errno 2] No such file or directory: 'DC_IMDB/GeeksforGeeks'"
     ]
    }
   ],
   "source": [
    "# importing os module\n",
    "import os\n",
    "  \n",
    "# Directory\n",
    "directory = \"GeeksforGeeks\"\n",
    "  \n",
    "# Parent Directory path\n",
    "parent_dir = \"DC_IMDB\"\n",
    "  \n",
    "# Path\n",
    "path = os.path.join(parent_dir, directory)\n",
    "  \n",
    "# Create the directory\n",
    "# 'GeeksForGeeks' in\n",
    "# '/home / User / Documents'\n",
    "os.mkdir(path)\n",
    "print(\"Directory '% s' created\" % directory)"
   ]
  },
  {
   "cell_type": "code",
   "execution_count": 22,
   "metadata": {},
   "outputs": [
    {
     "name": "stdout",
     "output_type": "stream",
     "text": [
      "Directory 'Nikhil' created\n"
     ]
    }
   ],
   "source": [
    "# Python program to explain os.makedirs() method  \n",
    "      \n",
    "# importing os module  \n",
    "import os \n",
    "    \n",
    "# Leaf directory \n",
    "directory = \"Nikhil\"\n",
    "    \n",
    "# Parent Directories \n",
    "parent_dir = \"raw_data/Singh\"\n",
    "    \n",
    "# Path \n",
    "path = os.path.join(parent_dir, directory) \n",
    "    \n",
    "# Create the directory \n",
    "# 'Nikhil' \n",
    "os.makedirs(path) \n",
    "print(\"Directory '% s' created\" % directory) \n",
    "    \n",
    "# Directory 'GeeksForGeeks' and 'Authors' will \n",
    "# be created too  \n",
    "# if it does not exists "
   ]
  },
  {
   "cell_type": "code",
   "execution_count": 23,
   "metadata": {},
   "outputs": [],
   "source": [
    "import os\n",
    "\n",
    "os.mkdir('raw_data')\n",
    "\n",
    "#directory = 'box_office_mojo'\n",
    "\n",
    "path = os.path.join('raw_data', 'box_office_mojo')\n",
    "\n",
    "os.mkdir(path)\n",
    "\n",
    "\n",
    "\n",
    "\n",
    "\n",
    "\n",
    "\n"
   ]
  }
 ],
 "metadata": {
  "kernelspec": {
   "display_name": "Python 3.9.13 ('DCvenv': venv)",
   "language": "python",
   "name": "python3"
  },
  "language_info": {
   "codemirror_mode": {
    "name": "ipython",
    "version": 3
   },
   "file_extension": ".py",
   "mimetype": "text/x-python",
   "name": "python",
   "nbconvert_exporter": "python",
   "pygments_lexer": "ipython3",
   "version": "3.9.13"
  },
  "orig_nbformat": 4,
  "vscode": {
   "interpreter": {
    "hash": "67c58ce05d457d0aa1f1cf24270b5dca87a6baa976fdc4442eb0ba04c28cf210"
   }
  }
 },
 "nbformat": 4,
 "nbformat_minor": 2
}
