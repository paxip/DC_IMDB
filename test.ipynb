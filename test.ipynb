{
 "cells": [
  {
   "cell_type": "code",
   "execution_count": 5,
   "metadata": {},
   "outputs": [
    {
     "data": {
      "text/plain": [
       "{'a': 1, 'b': 2}"
      ]
     },
     "execution_count": 5,
     "metadata": {},
     "output_type": "execute_result"
    }
   ],
   "source": [
    "list1 = ['a', 'b', 'c', 'd']\n",
    "list2 = [1, 2, 3]\n",
    "\n",
    "list3 = zip(list1[0:2], list2[0:2])\n",
    "dict(list3)"
   ]
  },
  {
   "cell_type": "code",
   "execution_count": 7,
   "metadata": {},
   "outputs": [
    {
     "data": {
      "text/plain": [
       "{'Distributor': 'Walt Disney Studios Motion Pictures\\nSee full company information',\n",
       " 'Opening': '$220,009,584\\n4,232 theaters',\n",
       " 'Budget': '$317,000,000',\n",
       " 'Release Date': 'Dec 15, 2017 - Apr 19, 2018',\n",
       " 'MPAA': 'PG-13',\n",
       " 'Running Time': '2 hr 32 min',\n",
       " 'Genres': 'Action Adventure Fantasy Sci-Fi',\n",
       " 'In Release': '382 days/54 weeks',\n",
       " 'Widest Release': '4,232 theaters',\n",
       " 'IMDbPro': 'See more details at IMDbPro'}"
      ]
     },
     "execution_count": 7,
     "metadata": {},
     "output_type": "execute_result"
    }
   ],
   "source": [
    "key_list = ['Distributor', 'Opening', 'Budget', 'Release Date', 'MPAA', 'Running Time', 'Genres', 'In Release', 'Widest Release', 'IMDbPro']\n",
    "value_list = ['Walt Disney Studios Motion Pictures\\nSee full company information', '$220,009,584\\n4,232 theaters', '$317,000,000', 'Dec 15, 2017 - Apr 19, 2018', 'PG-13', '2 hr 32 min', 'Action Adventure Fantasy Sci-Fi', '382 days/54 weeks', '4,232 theaters', 'See more details at IMDbPro']\n",
    "\n",
    "key_value_list = zip(key_list, value_list)\n",
    "dict(key_value_list)"
   ]
  },
  {
   "cell_type": "code",
   "execution_count": 12,
   "metadata": {},
   "outputs": [
    {
     "name": "stdout",
     "output_type": "stream",
     "text": [
      "{'Distributor': 'Walt Disney Studios Motion Pictures\\nSee full company information', 'Opening': '$220,009,584\\n4,232 theaters', 'Budget': '$317,000,000', 'Release Date': 'Dec 15, 2017 - Apr 19, 2018', 'MPAA': 'PG-13', 'Running Time': '2 hr 32 min', 'Genres': 'Action Adventure Fantasy Sci-Fi', 'In Release': '382 days/54 weeks', 'Widest Release': '4,232 theaters', 'IMDbPro': 'See more details at IMDbPro'}\n"
     ]
    }
   ],
   "source": [
    "key_list = ['Distributor', 'Opening', 'Budget', 'Release Date', 'MPAA', 'Running Time', 'Genres', 'In Release', 'Widest Release', 'IMDbPro']\n",
    "value_list = ['Walt Disney Studios Motion Pictures\\nSee full company information', '$220,009,584\\n4,232 theaters', '$317,000,000', 'Dec 15, 2017 - Apr 19, 2018', 'PG-13', '2 hr 32 min', 'Action Adventure Fantasy Sci-Fi', '382 days/54 weeks', '4,232 theaters', 'See more details at IMDbPro']\n",
    "\n",
    "key_value_list = dict(zip(key_list, value_list))\n",
    "\n",
    "print(key_value_list)"
   ]
  },
  {
   "cell_type": "code",
   "execution_count": 11,
   "metadata": {},
   "outputs": [
    {
     "name": "stdout",
     "output_type": "stream",
     "text": [
      "{1: 'bobby', 2: 'hadz', 3: 'com'}\n"
     ]
    }
   ],
   "source": [
    "list_1 = [1, 2, 3]\n",
    "list_2 = ['bobby', 'hadz', 'com']\n",
    "\n",
    "my_list = dict(zip(list_1, list_2))\n",
    "\n",
    "# 👇️ [(1, 'bobby'), (2, 'hadz'), (3, 'com')]\n",
    "print(my_list)"
   ]
  }
 ],
 "metadata": {
  "kernelspec": {
   "display_name": "Python 3.9.13 ('DCvenv': venv)",
   "language": "python",
   "name": "python3"
  },
  "language_info": {
   "codemirror_mode": {
    "name": "ipython",
    "version": 3
   },
   "file_extension": ".py",
   "mimetype": "text/x-python",
   "name": "python",
   "nbconvert_exporter": "python",
   "pygments_lexer": "ipython3",
   "version": "3.9.13"
  },
  "orig_nbformat": 4,
  "vscode": {
   "interpreter": {
    "hash": "67c58ce05d457d0aa1f1cf24270b5dca87a6baa976fdc4442eb0ba04c28cf210"
   }
  }
 },
 "nbformat": 4,
 "nbformat_minor": 2
}
