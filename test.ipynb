{
 "cells": [
  {
   "cell_type": "code",
   "execution_count": 5,
   "metadata": {},
   "outputs": [
    {
     "data": {
      "text/plain": [
       "{'a': 1, 'b': 2}"
      ]
     },
     "execution_count": 5,
     "metadata": {},
     "output_type": "execute_result"
    }
   ],
   "source": [
    "list1 = ['a', 'b', 'c', 'd']\n",
    "list2 = [1, 2, 3]\n",
    "\n",
    "list3 = zip(list1[0:2], list2[0:2])\n",
    "dict(list3)"
   ]
  },
  {
   "cell_type": "code",
   "execution_count": 7,
   "metadata": {},
   "outputs": [
    {
     "data": {
      "text/plain": [
       "{'Distributor': 'Walt Disney Studios Motion Pictures\\nSee full company information',\n",
       " 'Opening': '$220,009,584\\n4,232 theaters',\n",
       " 'Budget': '$317,000,000',\n",
       " 'Release Date': 'Dec 15, 2017 - Apr 19, 2018',\n",
       " 'MPAA': 'PG-13',\n",
       " 'Running Time': '2 hr 32 min',\n",
       " 'Genres': 'Action Adventure Fantasy Sci-Fi',\n",
       " 'In Release': '382 days/54 weeks',\n",
       " 'Widest Release': '4,232 theaters',\n",
       " 'IMDbPro': 'See more details at IMDbPro'}"
      ]
     },
     "execution_count": 7,
     "metadata": {},
     "output_type": "execute_result"
    }
   ],
   "source": [
    "key_list = ['Distributor', 'Opening', 'Budget', 'Release Date', 'MPAA', 'Running Time', 'Genres', 'In Release', 'Widest Release', 'IMDbPro']\n",
    "value_list = ['Walt Disney Studios Motion Pictures\\nSee full company information', '$220,009,584\\n4,232 theaters', '$317,000,000', 'Dec 15, 2017 - Apr 19, 2018', 'PG-13', '2 hr 32 min', 'Action Adventure Fantasy Sci-Fi', '382 days/54 weeks', '4,232 theaters', 'See more details at IMDbPro']\n",
    "\n",
    "key_value_list = zip(key_list, value_list)\n",
    "dict(key_value_list)"
   ]
  },
  {
   "cell_type": "code",
   "execution_count": 12,
   "metadata": {},
   "outputs": [
    {
     "name": "stdout",
     "output_type": "stream",
     "text": [
      "{'Distributor': 'Walt Disney Studios Motion Pictures\\nSee full company information', 'Opening': '$220,009,584\\n4,232 theaters', 'Budget': '$317,000,000', 'Release Date': 'Dec 15, 2017 - Apr 19, 2018', 'MPAA': 'PG-13', 'Running Time': '2 hr 32 min', 'Genres': 'Action Adventure Fantasy Sci-Fi', 'In Release': '382 days/54 weeks', 'Widest Release': '4,232 theaters', 'IMDbPro': 'See more details at IMDbPro'}\n"
     ]
    }
   ],
   "source": [
    "key_list = ['Distributor', 'Opening', 'Budget', 'Release Date', 'MPAA', 'Running Time', 'Genres', 'In Release', 'Widest Release', 'IMDbPro']\n",
    "value_list = ['Walt Disney Studios Motion Pictures\\nSee full company information', '$220,009,584\\n4,232 theaters', '$317,000,000', 'Dec 15, 2017 - Apr 19, 2018', 'PG-13', '2 hr 32 min', 'Action Adventure Fantasy Sci-Fi', '382 days/54 weeks', '4,232 theaters', 'See more details at IMDbPro']\n",
    "\n",
    "key_value_list = dict(zip(key_list, value_list))\n",
    "\n",
    "print(key_value_list)"
   ]
  },
  {
   "cell_type": "code",
   "execution_count": 11,
   "metadata": {},
   "outputs": [
    {
     "name": "stdout",
     "output_type": "stream",
     "text": [
      "{1: 'bobby', 2: 'hadz', 3: 'com'}\n"
     ]
    }
   ],
   "source": [
    "list_1 = [1, 2, 3]\n",
    "list_2 = ['bobby', 'hadz', 'com']\n",
    "\n",
    "my_list = dict(zip(list_1, list_2))\n",
    "\n",
    "# 👇️ [(1, 'bobby'), (2, 'hadz'), (3, 'com')]\n",
    "print(my_list)"
   ]
  },
  {
   "cell_type": "code",
   "execution_count": 15,
   "metadata": {},
   "outputs": [
    {
     "name": "stdout",
     "output_type": "stream",
     "text": [
      "Timestamp: 2022-10-20 17:11:28\n"
     ]
    }
   ],
   "source": [
    "import datetime\n",
    "\n",
    "Timestamp = 'Timestamp: {:%Y-%m-%d %H:%M:%S}'.format(datetime.datetime.now())\n",
    "\n",
    "print(Timestamp)"
   ]
  },
  {
   "cell_type": "code",
   "execution_count": 21,
   "metadata": {},
   "outputs": [
    {
     "name": "stdout",
     "output_type": "stream",
     "text": [
      "The directory is created.\n"
     ]
    }
   ],
   "source": [
    "import os\n",
    "\n",
    "os.mkdir('raw_data')\n",
    "print('The directory is created.')"
   ]
  },
  {
   "cell_type": "code",
   "execution_count": 20,
   "metadata": {},
   "outputs": [
    {
     "ename": "FileNotFoundError",
     "evalue": "[Errno 2] No such file or directory: 'DC_IMDB/GeeksforGeeks'",
     "output_type": "error",
     "traceback": [
      "\u001b[0;31m---------------------------------------------------------------------------\u001b[0m",
      "\u001b[0;31mFileNotFoundError\u001b[0m                         Traceback (most recent call last)",
      "Cell \u001b[0;32mIn [20], line 16\u001b[0m\n\u001b[1;32m     11\u001b[0m path \u001b[39m=\u001b[39m os\u001b[39m.\u001b[39mpath\u001b[39m.\u001b[39mjoin(parent_dir, directory)\n\u001b[1;32m     13\u001b[0m \u001b[39m# Create the directory\u001b[39;00m\n\u001b[1;32m     14\u001b[0m \u001b[39m# 'GeeksForGeeks' in\u001b[39;00m\n\u001b[1;32m     15\u001b[0m \u001b[39m# '/home / User / Documents'\u001b[39;00m\n\u001b[0;32m---> 16\u001b[0m os\u001b[39m.\u001b[39mmkdir(path)\n\u001b[1;32m     17\u001b[0m \u001b[39mprint\u001b[39m(\u001b[39m\"\u001b[39m\u001b[39mDirectory \u001b[39m\u001b[39m'\u001b[39m\u001b[39m% s\u001b[39;00m\u001b[39m'\u001b[39m\u001b[39m created\u001b[39m\u001b[39m\"\u001b[39m \u001b[39m%\u001b[39m directory)\n",
      "\u001b[0;31mFileNotFoundError\u001b[0m: [Errno 2] No such file or directory: 'DC_IMDB/GeeksforGeeks'"
     ]
    }
   ],
   "source": [
    "# importing os module\n",
    "import os\n",
    "  \n",
    "# Directory\n",
    "directory = \"GeeksforGeeks\"\n",
    "  \n",
    "# Parent Directory path\n",
    "parent_dir = \"DC_IMDB\"\n",
    "  \n",
    "# Path\n",
    "path = os.path.join(parent_dir, directory)\n",
    "  \n",
    "# Create the directory\n",
    "# 'GeeksForGeeks' in\n",
    "# '/home / User / Documents'\n",
    "os.mkdir(path)\n",
    "print(\"Directory '% s' created\" % directory)"
   ]
  },
  {
   "cell_type": "code",
   "execution_count": 22,
   "metadata": {},
   "outputs": [
    {
     "name": "stdout",
     "output_type": "stream",
     "text": [
      "Directory 'Nikhil' created\n"
     ]
    }
   ],
   "source": [
    "# Python program to explain os.makedirs() method  \n",
    "      \n",
    "# importing os module  \n",
    "import os \n",
    "    \n",
    "# Leaf directory \n",
    "directory = \"Nikhil\"\n",
    "    \n",
    "# Parent Directories \n",
    "parent_dir = \"raw_data/Singh\"\n",
    "    \n",
    "# Path \n",
    "path = os.path.join(parent_dir, directory) \n",
    "    \n",
    "# Create the directory \n",
    "# 'Nikhil' \n",
    "os.makedirs(path) \n",
    "print(\"Directory '% s' created\" % directory) \n",
    "    \n",
    "# Directory 'GeeksForGeeks' and 'Authors' will \n",
    "# be created too  \n",
    "# if it does not exists "
   ]
  },
  {
   "cell_type": "code",
   "execution_count": 24,
   "metadata": {},
   "outputs": [],
   "source": [
    "import os\n",
    "\n",
    "os.mkdir('raw_data')\n",
    "\n",
    "#directory = 'box_office_mojo'\n",
    "\n",
    "path = os.path.join('raw_data', 'box_office_mojo')\n",
    "\n",
    "os.mkdir(path)\n",
    "\n",
    "\n",
    "\n",
    "\n",
    "\n",
    "\n",
    "\n"
   ]
  },
  {
   "cell_type": "code",
   "execution_count": 28,
   "metadata": {},
   "outputs": [
    {
     "ename": "NotADirectoryError",
     "evalue": "[Errno 20] Not a directory: '/Users/apple/Documents/GitHub/DC_IMDB/data.json'",
     "output_type": "error",
     "traceback": [
      "\u001b[0;31m---------------------------------------------------------------------------\u001b[0m",
      "\u001b[0;31mNotADirectoryError\u001b[0m                        Traceback (most recent call last)",
      "Cell \u001b[0;32mIn [28], line 4\u001b[0m\n\u001b[1;32m      1\u001b[0m source \u001b[39m=\u001b[39m \u001b[39m'\u001b[39m\u001b[39m/Users/apple/Documents/GitHub/DC_IMDB/data.json\u001b[39m\u001b[39m'\u001b[39m\n\u001b[1;32m      2\u001b[0m destination \u001b[39m=\u001b[39m \u001b[39m'\u001b[39m\u001b[39m/Users/apple/Documents/GitHub/DC_IMDB/raw_data/box_office_mojo\u001b[39m\u001b[39m'\u001b[39m\n\u001b[0;32m----> 4\u001b[0m allfiles \u001b[39m=\u001b[39m os\u001b[39m.\u001b[39mlistdir(source)\n\u001b[1;32m      6\u001b[0m \u001b[39mfor\u001b[39;00m f \u001b[39min\u001b[39;00m allfiles:\n\u001b[1;32m      7\u001b[0m     src_path \u001b[39m=\u001b[39m os\u001b[39m.\u001b[39mpath\u001b[39m.\u001b[39mjoin(source, f)\n",
      "\u001b[0;31mNotADirectoryError\u001b[0m: [Errno 20] Not a directory: '/Users/apple/Documents/GitHub/DC_IMDB/data.json'"
     ]
    }
   ],
   "source": [
    "source = '/Users/apple/Documents/GitHub/DC_IMDB/data.json'\n",
    "destination = '/Users/apple/Documents/GitHub/DC_IMDB/raw_data/box_office_mojo'\n",
    "\n",
    "allfiles = os.listdir(source)\n",
    "\n",
    "for f in allfiles:\n",
    "    src_path = os.path.join(source, f)\n",
    "    dst_path = os.path.join(destination, f)\n",
    "    os.rename(src_path, dst_path)\n",
    "\n",
    "\n",
    "\n",
    "\n",
    "\n",
    "\n",
    "\n"
   ]
  },
  {
   "cell_type": "code",
   "execution_count": null,
   "metadata": {},
   "outputs": [],
   "source": [
    "import os\n",
    "\n",
    "os.mkdir('raw_data')\n",
    "\n",
    "#directory = 'box_office_mojo'\n",
    "\n",
    "path = os.path.join('raw_data', 'box_office_mojo')\n",
    "\n",
    "os.mkdir(path)\n",
    "\n",
    "with open(os.path.join(path, 'data.json'), 'w') as f:\n",
    "    json.dump(self.movie_dictionary, f)"
   ]
  },
  {
   "cell_type": "code",
   "execution_count": 31,
   "metadata": {},
   "outputs": [
    {
     "name": "stdout",
     "output_type": "stream",
     "text": [
      "('apple', 'banana', 'cherry')\n"
     ]
    }
   ],
   "source": [
    "x = ('apple', 'banana', 'cherry')\n",
    "y = enumerate(x)\n",
    "print(x)"
   ]
  },
  {
   "cell_type": "code",
   "execution_count": 32,
   "metadata": {},
   "outputs": [
    {
     "name": "stdout",
     "output_type": "stream",
     "text": [
      "1. banana2. apple3. pear4. peach"
     ]
    }
   ],
   "source": [
    "fruit = ['banana', 'apple', 'pear', 'peach']\n",
    "for i, item in enumerate(fruit,1):\n",
    "    print(i, '. ' + item, sep='',end='')\n"
   ]
  },
  {
   "cell_type": "code",
   "execution_count": 43,
   "metadata": {},
   "outputs": [
    {
     "name": "stdout",
     "output_type": "stream",
     "text": [
      "1\n",
      "2\n",
      "3\n",
      "4\n",
      "5\n",
      "6\n"
     ]
    }
   ],
   "source": [
    "blob = [\"a\", \"b\", \"c\", \"d\", \"e\", \"f\"]\n",
    "\n",
    "for n, i in enumerate(blob, 1):\n",
    "    print(n)\n"
   ]
  },
  {
   "cell_type": "code",
   "execution_count": 42,
   "metadata": {},
   "outputs": [
    {
     "name": "stdout",
     "output_type": "stream",
     "text": [
      "<built-in method index of list object at 0x10a4bf7c0>\n"
     ]
    }
   ],
   "source": [
    "list_1 = ['apple', 'pear', 'banana']\n",
    "\n",
    "print(list_1.)\n"
   ]
  },
  {
   "cell_type": "code",
   "execution_count": 45,
   "metadata": {},
   "outputs": [
    {
     "name": "stdout",
     "output_type": "stream",
     "text": [
      "<function caller.<locals>.first_child at 0x10a4e03a0>\n"
     ]
    }
   ],
   "source": [
    "def caller(num):\n",
    "    def first_child():\n",
    "        print('I am being called')\n",
    "        return \"I am the first child\"\n",
    "    \n",
    "    def second_child():\n",
    "        return \"I am the second child\"\n",
    "\n",
    "    if num == 1:\n",
    "        return first_child\n",
    "    else:\n",
    "        return second_child\n",
    "\n",
    "print(caller(1))\n"
   ]
  },
  {
   "cell_type": "code",
   "execution_count": 48,
   "metadata": {},
   "outputs": [
    {
     "name": "stdout",
     "output_type": "stream",
     "text": [
      "I come before the function!\n",
      "Epstein didn't kill himself\n",
      "I come after the function!\n"
     ]
    }
   ],
   "source": [
    "def my_decorator(func):\n",
    "    def wrapper():\n",
    "        print (\"I come before the function!\")\n",
    "        func(name)\n",
    "        print(\"I come after the function!\")\n",
    "    return wrapper\n",
    "\n",
    "def say_truth():\n",
    "    print(f'Epstein didn\\'t kill himself')\n",
    "\n",
    "my_func = my_decorator(say_truth)\n",
    "my_func()\n",
    "\n"
   ]
  },
  {
   "cell_type": "code",
   "execution_count": 50,
   "metadata": {},
   "outputs": [
    {
     "name": "stdout",
     "output_type": "stream",
     "text": [
      "I come before the function!\n",
      "Hello, world!\n",
      "I come after the function!\n"
     ]
    }
   ],
   "source": [
    "def wave():\n",
    "    print('Hello, world!')\n",
    "\n",
    "my_wave_func = my_decorator(wave)\n",
    "my_wave_func()\n"
   ]
  },
  {
   "cell_type": "code",
   "execution_count": 59,
   "metadata": {},
   "outputs": [
    {
     "name": "stdout",
     "output_type": "stream",
     "text": [
      "I come before the function!\n",
      "Hello, Ivan!\n",
      "I come after the function!\n"
     ]
    }
   ],
   "source": [
    "def my_decorator(func):\n",
    "    def wrapper(name):\n",
    "        print (\"I come before the function!\")\n",
    "        func(name)\n",
    "        print(\"I come after the function!\")\n",
    "    return wrapper\n",
    "\n",
    "def say_truth():\n",
    "    print(f'Epstein didn\\'t kill himself')\n",
    "\n",
    "\n",
    "def say_hello(name):\n",
    "    print(f'Hello, {name}!')\n",
    "\n",
    "my_hello_func = my_decorator(say_hello)\n",
    "my_hello_func('Ivan')"
   ]
  },
  {
   "cell_type": "code",
   "execution_count": 63,
   "metadata": {},
   "outputs": [
    {
     "name": "stdout",
     "output_type": "stream",
     "text": [
      "It took 1.9890179634094238 seconds to run\n"
     ]
    }
   ],
   "source": [
    "import time\n",
    "\n",
    "def my_timer(func):\n",
    "    def wrapper():\n",
    "        time_0 = time.time()\n",
    "        func()\n",
    "        time_1 = time.time()\n",
    "        print(f'It took {time_1 - time_0} seconds to run')\n",
    "    return wrapper\n",
    "\n",
    "@my_timer\n",
    "def dummy_fun():\n",
    "    for _ in range(50000000):\n",
    "        x = \"I am just losing your time\"\n",
    "\n",
    "dummy_fun()\n"
   ]
  },
  {
   "cell_type": "code",
   "execution_count": 64,
   "metadata": {},
   "outputs": [
    {
     "name": "stdout",
     "output_type": "stream",
     "text": [
      "Hello Ivan\n",
      "Hello Ivan\n"
     ]
    }
   ],
   "source": [
    "def repeat(func):\n",
    "    def wrapper(*args, **kwargs):\n",
    "        func(*args, **kwargs)\n",
    "        func(*args, **kwargs)\n",
    "    return wrapper\n",
    "\n",
    "def say_hi(name):\n",
    "    print(f'Hello {name}')\n",
    "    return 1\n",
    "\n",
    "repeat(say_hi)('Ivan')\n"
   ]
  },
  {
   "cell_type": "code",
   "execution_count": 65,
   "metadata": {},
   "outputs": [
    {
     "name": "stdout",
     "output_type": "stream",
     "text": [
      "Hello\n",
      "Welcome\n",
      "to\n",
      "GeeksforGeeks\n"
     ]
    }
   ],
   "source": [
    "def myFun(*argv):\n",
    "    for arg in argv:\n",
    "        print(arg)\n",
    "\n",
    "myFun('Hello', 'Welcome', 'to', 'GeeksforGeeks')"
   ]
  },
  {
   "cell_type": "code",
   "execution_count": 66,
   "metadata": {},
   "outputs": [
    {
     "name": "stdout",
     "output_type": "stream",
     "text": [
      "First arguement: Hello\n",
      "Next argument through *argv : Welcome\n",
      "Next argument through *argv : to\n",
      "Next argument through *argv : GeeksforGeeks\n"
     ]
    }
   ],
   "source": [
    "def myFun(arg1, *argv):\n",
    "    print(\"First arguement:\", arg1)\n",
    "    for arg in argv:\n",
    "        print(\"Next argument through *argv :\", arg)\n",
    "\n",
    "myFun('Hello', 'Welcome', 'to', 'GeeksforGeeks')\n"
   ]
  },
  {
   "cell_type": "code",
   "execution_count": 67,
   "metadata": {},
   "outputs": [
    {
     "name": "stdout",
     "output_type": "stream",
     "text": [
      "first == Geeks\n",
      "mid == for\n",
      "last == Geeks\n"
     ]
    }
   ],
   "source": [
    "def myFun(**kwargs):\n",
    "    for key, value in kwargs.items():\n",
    "        print(\"%s == %s\" % (key,value))\n",
    "\n",
    "myFun(first='Geeks', mid='for', last='Geeks')        "
   ]
  },
  {
   "cell_type": "code",
   "execution_count": 69,
   "metadata": {},
   "outputs": [
    {
     "name": "stdout",
     "output_type": "stream",
     "text": [
      "first == Geeks\n",
      "mid == for\n",
      "last == Geeks\n"
     ]
    }
   ],
   "source": [
    "def myFun(arg1, **kwargs):\n",
    "    for key, value in kwargs.items():\n",
    "        print(\"%s == %s\" % (key, value))\n",
    "\n",
    "myFun(\"Hi\", first='Geeks', mid='for', last='Geeks')\n"
   ]
  },
  {
   "cell_type": "code",
   "execution_count": 72,
   "metadata": {},
   "outputs": [
    {
     "name": "stdout",
     "output_type": "stream",
     "text": [
      "arg1: Geeks\n",
      "arg2 for\n",
      "arg3: Geeks\n"
     ]
    }
   ],
   "source": [
    "def myFun(arg1, arg2, arg3):\n",
    "    print(\"arg1:\", arg1)\n",
    "    print(\"arg2\", arg2)\n",
    "    print(\"arg3:\", arg3)\n",
    "\n",
    "# args = (\"Geeks\", \"for\", \"Geeks\")\n",
    "# myFun(*args)\n",
    "\n",
    "kwargs = {\"arg1\": \"Geeks\", \"arg2\": \"for\", \"arg3\": \"Geeks\"}\n",
    "myFun(**kwargs)\n",
    "    "
   ]
  },
  {
   "cell_type": "code",
   "execution_count": 74,
   "metadata": {},
   "outputs": [
    {
     "name": "stdout",
     "output_type": "stream",
     "text": [
      "args: ('geeks', 'for', 'geeks')\n",
      "kwargs: {'first': 'Geeks', 'mid': 'for', 'last': 'Geeks'}\n"
     ]
    }
   ],
   "source": [
    "def myFun(*args, **kwargs):\n",
    "    print(\"args:\", args)\n",
    "    print(\"kwargs:\", kwargs)\n",
    "\n",
    "myFun('geeks', 'for', 'geeks', first=\"Geeks\", mid=\"for\", last=\"Geeks\")"
   ]
  },
  {
   "cell_type": "code",
   "execution_count": 76,
   "metadata": {},
   "outputs": [
    {
     "name": "stdout",
     "output_type": "stream",
     "text": [
      "red\n",
      "250\n"
     ]
    }
   ],
   "source": [
    "class Car():\n",
    "    def __init__(self, *args):\n",
    "        self.speed = args[0]\n",
    "        self.colour=args[1]\n",
    "\n",
    "\n",
    "audi=Car(200,'red')\n",
    "bmw=Car(250,'black')\n",
    "mb=Car(190,'white')\n",
    "    \n",
    "print(audi.colour)\n",
    "print(bmw.speed)"
   ]
  },
  {
   "cell_type": "code",
   "execution_count": 77,
   "metadata": {},
   "outputs": [
    {
     "name": "stdout",
     "output_type": "stream",
     "text": [
      "red\n",
      "250\n"
     ]
    }
   ],
   "source": [
    "# *args receives arguements as an array/ **kwargs recieves arguements as a dictionary.\n",
    "\n",
    "\n",
    "class Car():\n",
    "    def __init__(self, **kwargs):\n",
    "        self.speed = kwargs['s']\n",
    "        self.color = kwargs['c']\n",
    "\n",
    "audi=Car(s=200,c='red')\n",
    "bmw=Car(s=250,c='black')\n",
    "mb=Car(s=190,c='white')\n",
    "    \n",
    "print(audi.color)\n",
    "print(bmw.speed)\n",
    "        \n"
   ]
  }
 ],
 "metadata": {
  "kernelspec": {
   "display_name": "Python 3.9.13 ('DCvenv': venv)",
   "language": "python",
   "name": "python3"
  },
  "language_info": {
   "codemirror_mode": {
    "name": "ipython",
    "version": 3
   },
   "file_extension": ".py",
   "mimetype": "text/x-python",
   "name": "python",
   "nbconvert_exporter": "python",
   "pygments_lexer": "ipython3",
   "version": "3.9.13"
  },
  "orig_nbformat": 4,
  "vscode": {
   "interpreter": {
    "hash": "67c58ce05d457d0aa1f1cf24270b5dca87a6baa976fdc4442eb0ba04c28cf210"
   }
  }
 },
 "nbformat": 4,
 "nbformat_minor": 2
}
