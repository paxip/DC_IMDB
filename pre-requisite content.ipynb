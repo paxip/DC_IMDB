{
 "cells": [
  {
   "cell_type": "code",
   "execution_count": 1,
   "metadata": {},
   "outputs": [
    {
     "name": "stdout",
     "output_type": "stream",
     "text": [
      "Soap 64\n",
      "Artyom 55\n"
     ]
    }
   ],
   "source": [
    "class Player:\n",
    "    def __init__(self, name, level=1):\n",
    "        self.name = name\n",
    "        self.level = level\n",
    "\n",
    "    def play(self):\n",
    "        print(f'Ready up! My name is {self.name}. This is level {self.level}')\n",
    "\n",
    "soap = Player('Soap', 64)\n",
    "artyom = Player('Artyom', 55)\n",
    "\n",
    "print(soap.name, soap.level)\n",
    "print(artyom.name, artyom.level)\n"
   ]
  },
  {
   "cell_type": "code",
   "execution_count": 3,
   "metadata": {},
   "outputs": [],
   "source": [
    "class Computer:\n",
    "    def __init__(self, weight, ram, gpu):\n",
    "        self.weight = weight\n",
    "        self.ram = ram\n",
    "        self.gpu = gpu\n",
    "\n",
    "    def work(self):\n",
    "        print('I an working')\n",
    "\n",
    "    def code(self, language):\n",
    "        print(f'I am coding in {language}')\n",
    "\n",
    "    def browse(self):\n",
    "        print(f\"Let's browse LinkedIns\")\n",
    "\n",
    "    \n",
    "    \n",
    "\n",
    "    "
   ]
  },
  {
   "cell_type": "code",
   "execution_count": 8,
   "metadata": {},
   "outputs": [
    {
     "name": "stdout",
     "output_type": "stream",
     "text": [
      "True\n"
     ]
    }
   ],
   "source": [
    "class Computer:\n",
    "    def __init__(self, weight, ram, gpu):\n",
    "        self.weight = weight\n",
    "        self.ram = ram\n",
    "        self.gpu = gpu\n",
    "\n",
    "    def work(self):\n",
    "        print('I am working')\n",
    "\n",
    "    def code(self, language):\n",
    "        print(f'I am coding in {language}')\n",
    "\n",
    "    def browse(self):\n",
    "        print(f\"Let's browse LinkedIns\")\n",
    "\n",
    "class GamingComputer(Computer):\n",
    "    def __init__(self, weight, ram):\n",
    "        super().__init__(weight, ram, True)\n",
    "\n",
    "    def play_games(self, game):\n",
    "        print(f'I am using my GPU and my {self.ram}GB RAM to play {game}!')\n",
    "\n",
    "alienware = GamingComputer(12,16)\n",
    "print(alienware.gpu)\n"
   ]
  },
  {
   "cell_type": "code",
   "execution_count": 1,
   "metadata": {},
   "outputs": [],
   "source": [
    "# Testing\n",
    "\n",
    "def mean_list(my_list: list) -> float:\n",
    "    \"\"\"\n",
    "    Return the mean of the values in the list.\n",
    "    \"\"\"\n",
    "    running_sum = 0\n",
    "    for num in my_list:\n",
    "        running_sum += num\n",
    "    return running_sum / len(my_list)\n",
    "\n",
    "\n",
    "assert mean_list([1, 2, 3]) == 2\n",
    "assert mean_list([-1, -2, 1, 2]) == 0\n",
    "assert mean_list([]) == 0"
   ]
  },
  {
   "cell_type": "code",
   "execution_count": 3,
   "metadata": {},
   "outputs": [
    {
     "name": "stdout",
     "output_type": "stream",
     "text": [
      "HUGO BOSS-11-BLACK\n"
     ]
    }
   ],
   "source": [
    "\n",
    "\n",
    "class Product:\n",
    "    def __init__(self, name, size, color):  # <1>\n",
    "        self.name = name\n",
    "        self.size = size\n",
    "        self.color = color\n",
    "\n",
    "    def transform_name_for_sku(self):\n",
    "        return self.name.upper()\n",
    "\n",
    "    def transform_color_for_sku(self):\n",
    "        return self.color.upper()\n",
    "\n",
    "    def generate_sku(self):\n",
    "        \"\"\"\n",
    "        Generates a Stock Keeping Unit (SKU) for this product.\n",
    "        Example:\n",
    "            >>> small_black_shoes = Product('shoes', 'S', 'black')\n",
    "            >>> small_black_shoes.generate_sku()\n",
    "            'SHOES-S-BLACK'\n",
    "        \"\"\"\n",
    "        name = self.transform_name_for_sku()\n",
    "        color = self.transform_color_for_sku()\n",
    "        return f'{name}-{self.size}-{color}'\n",
    "\n",
    "if __name__ == \"__main__\":\n",
    "    shoes = Product('Hugo Boss', 11, 'Black')\n",
    "    print(shoes.generate_sku())\n",
    "\n",
    "\n"
   ]
  }
 ],
 "metadata": {
  "kernelspec": {
   "display_name": "Python 3.9.13 ('DCvenv': venv)",
   "language": "python",
   "name": "python3"
  },
  "language_info": {
   "codemirror_mode": {
    "name": "ipython",
    "version": 3
   },
   "file_extension": ".py",
   "mimetype": "text/x-python",
   "name": "python",
   "nbconvert_exporter": "python",
   "pygments_lexer": "ipython3",
   "version": "3.9.13"
  },
  "orig_nbformat": 4,
  "vscode": {
   "interpreter": {
    "hash": "67c58ce05d457d0aa1f1cf24270b5dca87a6baa976fdc4442eb0ba04c28cf210"
   }
  }
 },
 "nbformat": 4,
 "nbformat_minor": 2
}
