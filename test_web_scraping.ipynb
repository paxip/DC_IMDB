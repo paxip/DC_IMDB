{
 "cells": [
  {
   "cell_type": "code",
   "execution_count": 25,
   "metadata": {},
   "outputs": [],
   "source": [
    "from selenium import webdriver\n",
    "from selenium.webdriver.common. by import By\n",
    "from selenium.webdriver.chrome.service import Service\n",
    "from selenium.webdriver.chrome.options import Options\n",
    "import time\n",
    "\n",
    "from selenium.webdriver.support.ui import WebDriverWait, Select\n",
    "\n",
    "\n",
    "\n",
    "\n",
    "class Scraper:\n",
    "    def load_webpage():\n",
    "        URL = \"https://www.boxofficemojo.com/\"\n",
    "        driverpath = '/Users/apple/Documents/GitHub/DC_Zoopla/chromedriver 5'\n",
    "        service = Service(driverpath)\n",
    "        chrome_options = Options()\n",
    "        driver = webdriver.Chrome(options=chrome_options, service=service) \n",
    "        driver.get(URL)\n",
    "        time.sleep(3)\n",
    "\n",
    "        tab_container = driver.find_element(by=By.XPATH, value='//*[@id=\"a-page\"]/div[2]/div[4]/div') \n",
    "        monthly_button = tab_container.find_element(by=By.XPATH, value='//*[@id=\"a-page\"]/div[2]/div[4]/div/a[4]') \n",
    "        monthly_button.click()\n",
    "        time.sleep(3)\n",
    "\n",
    "        drop_down_by_year = driver.find_element(by=By.XPATH, value='//select[@id=\"view-navSelector\"]') \n",
    "        select = Select(drop_down_by_year)\n",
    "\n",
    "        select.select_by_visible_text('By year')\n",
    "        time.sleep(3)\n",
    "\n",
    "        drop_down_by_month = driver.find_element(by=By.XPATH, value='//select[@id=\"by-year-navSelector\"]')\n",
    "        select = Select(drop_down_by_month)\n",
    "\n",
    "        select.select_by_visible_text('2017')\n",
    "        time.sleep(5)\n",
    "        \n",
    "\n",
    "\n",
    "\n",
    "       \n",
    "\n",
    "        #driver.execute_script(\"arguments[0].click();\", drop_down)\n",
    "\n",
    "\n",
    "\n",
    "\n",
    "        \n",
    "\n",
    "\n",
    "   \n",
    "\n",
    "        \n",
    "Scraper.load_webpage()  \n",
    "\n",
    "\n"
   ]
  }
 ],
 "metadata": {
  "kernelspec": {
   "display_name": "Python 3.9.13 ('DCvenv': venv)",
   "language": "python",
   "name": "python3"
  },
  "language_info": {
   "codemirror_mode": {
    "name": "ipython",
    "version": 3
   },
   "file_extension": ".py",
   "mimetype": "text/x-python",
   "name": "python",
   "nbconvert_exporter": "python",
   "pygments_lexer": "ipython3",
   "version": "3.9.13"
  },
  "orig_nbformat": 4,
  "vscode": {
   "interpreter": {
    "hash": "67c58ce05d457d0aa1f1cf24270b5dca87a6baa976fdc4442eb0ba04c28cf210"
   }
  }
 },
 "nbformat": 4,
 "nbformat_minor": 2
}
