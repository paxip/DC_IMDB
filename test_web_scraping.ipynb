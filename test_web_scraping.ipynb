{
 "cells": [
  {
   "cell_type": "code",
   "execution_count": 30,
   "metadata": {},
   "outputs": [
    {
     "name": "stdout",
     "output_type": "stream",
     "text": [
      "https://www.boxofficemojo.com/release/rl2708702721/?ref_=bo_my_table_1\n"
     ]
    },
    {
     "data": {
      "text/plain": [
       "<selenium.webdriver.chrome.webdriver.WebDriver (session=\"ccd704ebcc279461dda001d8ddf71628\")>"
      ]
     },
     "execution_count": 30,
     "metadata": {},
     "output_type": "execute_result"
    }
   ],
   "source": [
    "from selenium import webdriver\n",
    "from selenium.webdriver.common. by import By\n",
    "from selenium.webdriver.chrome.service import Service\n",
    "from selenium.webdriver.chrome.options import Options\n",
    "import time\n",
    "\n",
    "from selenium.webdriver.support.ui import WebDriverWait, Select\n",
    "\n",
    "\n",
    "\n",
    "\n",
    "class Scraper:\n",
    "    def load_webpage():\n",
    "        URL = \"https://www.boxofficemojo.com/\"\n",
    "        driverpath = '/Users/apple/Documents/GitHub/DC_Zoopla/chromedriver 5'\n",
    "        service = Service(driverpath)\n",
    "        chrome_options = Options()\n",
    "        driver = webdriver.Chrome(options=chrome_options, service=service) \n",
    "        driver.get(URL)\n",
    "        time.sleep(3)\n",
    "\n",
    "        tab_container = driver.find_element(by=By.XPATH, value='//*[@id=\"a-page\"]/div[2]/div[4]/div') \n",
    "        monthly_button = tab_container.find_element(by=By.XPATH, value='//*[@id=\"a-page\"]/div[2]/div[4]/div/a[4]') \n",
    "        monthly_button.click()\n",
    "        time.sleep(3)\n",
    "\n",
    "        drop_down_by_year = driver.find_element(by=By.XPATH, value='//select[@id=\"view-navSelector\"]') \n",
    "        select = Select(drop_down_by_year)\n",
    "\n",
    "        select.select_by_visible_text('By year')\n",
    "        time.sleep(3)\n",
    "\n",
    "        drop_down_by_month = driver.find_element(by=By.XPATH, value='//select[@id=\"by-year-navSelector\"]')\n",
    "        select = Select(drop_down_by_month)\n",
    "\n",
    "        select.select_by_visible_text('2017')\n",
    "        time.sleep(5)\n",
    "\n",
    "        movie_table = driver.find_element(by=By.XPATH, value='//*[@id=\"table\"]') \n",
    "        #go_to_table_rows = driver.find_element(by=By.XPATH, value='//th[@class=\"a-text-left mojo-field-type-genre hidden mojo-sortable-column hidden a-nowrap\"]') \n",
    "        go_to_table_row = driver.find_element(by=By.XPATH, value='//td[@class=\"a-text-left mojo-field-type-release mojo-cell-wide\"]')\n",
    "        a_tag = go_to_table_row.find_element(by=By.TAG_NAME, value='a')\n",
    "        link = a_tag.get_attribute('href')\n",
    "\n",
    "        print(link)\n",
    "     \n",
    "\n",
    "        return driver\n",
    "\n",
    "    #def get_links():\n",
    "        #driver = Scraper.load_webpage()\n",
    "        #movie_table = driver.find_element(by=By.XPATH, value='//select[@class=\"by-year-navSelector\"]')\n",
    "\n",
    "\n",
    "\n",
    "\n",
    "\n",
    "       \n",
    "    #Javascript command tested by Ivan:\n",
    "    #driver.execute_script(\"arguments[0].click();\", drop_down)\n",
    "\n",
    "\n",
    "\n",
    "\n",
    "        \n",
    "\n",
    "\n",
    "   \n",
    "\n",
    "        \n",
    "Scraper.load_webpage()  \n",
    "\n",
    "\n"
   ]
  }
 ],
 "metadata": {
  "kernelspec": {
   "display_name": "Python 3.9.13 ('DCvenv': venv)",
   "language": "python",
   "name": "python3"
  },
  "language_info": {
   "codemirror_mode": {
    "name": "ipython",
    "version": 3
   },
   "file_extension": ".py",
   "mimetype": "text/x-python",
   "name": "python",
   "nbconvert_exporter": "python",
   "pygments_lexer": "ipython3",
   "version": "3.9.13"
  },
  "orig_nbformat": 4,
  "vscode": {
   "interpreter": {
    "hash": "67c58ce05d457d0aa1f1cf24270b5dca87a6baa976fdc4442eb0ba04c28cf210"
   }
  }
 },
 "nbformat": 4,
 "nbformat_minor": 2
}
